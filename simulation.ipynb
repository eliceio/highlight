{
 "cells": [
  {
   "cell_type": "markdown",
   "metadata": {},
   "source": [
    "### naive version"
   ]
  },
  {
   "cell_type": "code",
   "execution_count": 1,
   "metadata": {
    "collapsed": true
   },
   "outputs": [
    {
     "name": "stderr",
     "output_type": "stream",
     "text": [
      "/Users/smlee/anaconda/lib/python2.7/site-packages/scipy/linalg/basic.py:17: RuntimeWarning: numpy.dtype size changed, may indicate binary incompatibility. Expected 96, got 88\n",
      "  from ._solve_toeplitz import levinson\n",
      "/Users/smlee/anaconda/lib/python2.7/site-packages/scipy/linalg/__init__.py:207: RuntimeWarning: numpy.dtype size changed, may indicate binary incompatibility. Expected 96, got 88\n",
      "  from ._decomp_update import *\n",
      "/Users/smlee/anaconda/lib/python2.7/site-packages/scipy/special/__init__.py:640: RuntimeWarning: numpy.dtype size changed, may indicate binary incompatibility. Expected 96, got 88\n",
      "  from ._ufuncs import *\n",
      "/Users/smlee/anaconda/lib/python2.7/site-packages/scipy/special/_ellip_harm.py:7: RuntimeWarning: numpy.dtype size changed, may indicate binary incompatibility. Expected 96, got 88\n",
      "  from ._ellip_harm_2 import _ellipsoid, _ellipsoid_norm\n",
      "/Users/smlee/anaconda/lib/python2.7/site-packages/scipy/interpolate/_bsplines.py:10: RuntimeWarning: numpy.dtype size changed, may indicate binary incompatibility. Expected 96, got 88\n",
      "  from . import _bspl\n",
      "/Users/smlee/anaconda/lib/python2.7/site-packages/scipy/sparse/lil.py:19: RuntimeWarning: numpy.dtype size changed, may indicate binary incompatibility. Expected 96, got 88\n",
      "  from . import _csparsetools\n",
      "/Users/smlee/anaconda/lib/python2.7/site-packages/scipy/sparse/csgraph/__init__.py:165: RuntimeWarning: numpy.dtype size changed, may indicate binary incompatibility. Expected 96, got 88\n",
      "  from ._shortest_path import shortest_path, floyd_warshall, dijkstra,\\\n",
      "/Users/smlee/anaconda/lib/python2.7/site-packages/scipy/sparse/csgraph/_validation.py:5: RuntimeWarning: numpy.dtype size changed, may indicate binary incompatibility. Expected 96, got 88\n",
      "  from ._tools import csgraph_to_dense, csgraph_from_dense,\\\n",
      "/Users/smlee/anaconda/lib/python2.7/site-packages/scipy/sparse/csgraph/__init__.py:167: RuntimeWarning: numpy.dtype size changed, may indicate binary incompatibility. Expected 96, got 88\n",
      "  from ._traversal import breadth_first_order, depth_first_order, \\\n",
      "/Users/smlee/anaconda/lib/python2.7/site-packages/scipy/sparse/csgraph/__init__.py:169: RuntimeWarning: numpy.dtype size changed, may indicate binary incompatibility. Expected 96, got 88\n",
      "  from ._min_spanning_tree import minimum_spanning_tree\n",
      "/Users/smlee/anaconda/lib/python2.7/site-packages/scipy/sparse/csgraph/__init__.py:170: RuntimeWarning: numpy.dtype size changed, may indicate binary incompatibility. Expected 96, got 88\n",
      "  from ._reordering import reverse_cuthill_mckee, maximum_bipartite_matching, \\\n",
      "/Users/smlee/anaconda/lib/python2.7/site-packages/scipy/spatial/__init__.py:95: RuntimeWarning: numpy.dtype size changed, may indicate binary incompatibility. Expected 96, got 88\n",
      "  from .ckdtree import *\n",
      "/Users/smlee/anaconda/lib/python2.7/site-packages/scipy/spatial/__init__.py:96: RuntimeWarning: numpy.dtype size changed, may indicate binary incompatibility. Expected 96, got 88\n",
      "  from .qhull import *\n",
      "/Users/smlee/anaconda/lib/python2.7/site-packages/scipy/spatial/_spherical_voronoi.py:18: RuntimeWarning: numpy.dtype size changed, may indicate binary incompatibility. Expected 96, got 88\n",
      "  from . import _voronoi\n",
      "/Users/smlee/anaconda/lib/python2.7/site-packages/scipy/spatial/distance.py:122: RuntimeWarning: numpy.dtype size changed, may indicate binary incompatibility. Expected 96, got 88\n",
      "  from . import _hausdorff\n",
      "/Users/smlee/anaconda/lib/python2.7/site-packages/scipy/ndimage/measurements.py:36: RuntimeWarning: numpy.dtype size changed, may indicate binary incompatibility. Expected 96, got 88\n",
      "  from . import _ni_label\n",
      "/Users/smlee/anaconda/lib/python2.7/site-packages/scipy/signal/_max_len_seq.py:8: RuntimeWarning: numpy.dtype size changed, may indicate binary incompatibility. Expected 96, got 88\n",
      "  from ._max_len_seq_inner import _max_len_seq_inner\n",
      "/Users/smlee/anaconda/lib/python2.7/site-packages/scipy/signal/_upfirdn.py:36: RuntimeWarning: numpy.dtype size changed, may indicate binary incompatibility. Expected 96, got 88\n",
      "  from ._upfirdn_apply import _output_len, _apply\n",
      "/Users/smlee/anaconda/lib/python2.7/site-packages/scipy/optimize/_trlib/__init__.py:1: RuntimeWarning: numpy.dtype size changed, may indicate binary incompatibility. Expected 96, got 88\n",
      "  from ._trlib import TRLIBQuadraticSubproblem\n",
      "/Users/smlee/anaconda/lib/python2.7/site-packages/scipy/optimize/_numdiff.py:10: RuntimeWarning: numpy.dtype size changed, may indicate binary incompatibility. Expected 96, got 88\n",
      "  from ._group_columns import group_dense, group_sparse\n",
      "/Users/smlee/anaconda/lib/python2.7/site-packages/scipy/signal/spectral.py:10: RuntimeWarning: numpy.dtype size changed, may indicate binary incompatibility. Expected 96, got 88\n",
      "  from ._spectral import _lombscargle\n",
      "/Users/smlee/anaconda/lib/python2.7/site-packages/scipy/stats/_continuous_distns.py:18: RuntimeWarning: numpy.dtype size changed, may indicate binary incompatibility. Expected 96, got 88\n",
      "  from . import _stats\n",
      "/Users/smlee/anaconda/lib/python2.7/site-packages/scipy/signal/_peak_finding.py:13: RuntimeWarning: numpy.dtype size changed, may indicate binary incompatibility. Expected 96, got 88\n",
      "  from ._peak_finding_utils import (_argmaxima1d, _select_by_peak_distance,\n",
      "/Users/smlee/anaconda/lib/python2.7/site-packages/scipy/io/matlab/mio4.py:18: RuntimeWarning: numpy.dtype size changed, may indicate binary incompatibility. Expected 96, got 88\n",
      "  from .mio_utils import squeeze_element, chars_to_strings\n",
      "/Users/smlee/anaconda/lib/python2.7/site-packages/scipy/io/matlab/mio5.py:98: RuntimeWarning: numpy.dtype size changed, may indicate binary incompatibility. Expected 96, got 88\n",
      "  from .mio5_utils import VarReader5\n"
     ]
    }
   ],
   "source": [
    "# coding: utf-8\n",
    "import sys\n",
    "sys.path.insert(0, './audio-classification/')\n",
    "import os\n",
    "import feat_extract\n",
    "import ffmpeg\n",
    "from moviepy.video.io.ffmpeg_tools import ffmpeg_extract_subclip\n",
    "from moviepy.video.io.VideoFileClip import VideoFileClip\n",
    "import moviepy.editor as mp\n",
    "import pickle\n",
    "import numpy as np\n",
    "import sklearn\n",
    "from sklearn.svm import SVC\n",
    "from sklearn.model_selection import train_test_split\n",
    "from sklearn.model_selection import GridSearchCV\n",
    "from sklearn.metrics import classification_report\n",
    "import pandas as pd\n",
    "import re\n",
    "import collections"
   ]
  },
  {
   "cell_type": "code",
   "execution_count": 38,
   "metadata": {
    "collapsed": true
   },
   "outputs": [
    {
     "name": "stdout",
     "output_type": "stream",
     "text": [
      "False\n",
      "\n",
      "[MoviePy] Running:\n",
      ">>> /Users/smlee/Library/Application Support/imageio/ffmpeg/ffmpeg-osx-v3.2.4 -y -i ./test_sk.mp4 -ss 0.00 -t 5.00 -vcodec copy -acodec copy ./audio-classification/data/output/1.mp4\n",
      "... command successful.\n",
      "[MoviePy] Writing audio in ./audio-classification/data/output/1.wav\n"
     ]
    },
    {
     "name": "stderr",
     "output_type": "stream",
     "text": [
      "100%|██████████| 111/111 [00:00<00:00, 1738.26it/s]"
     ]
    },
    {
     "name": "stdout",
     "output_type": "stream",
     "text": [
      "[MoviePy] Done.\n",
      "2\n",
      "False\n",
      "\n",
      "[MoviePy] Running:\n",
      ">>> /Users/smlee/Library/Application Support/imageio/ffmpeg/ffmpeg-osx-v3.2.4 -y -i ./test_sk.mp4 -ss 5.00 -t 5.00 -vcodec copy -acodec copy ./audio-classification/data/output/2.mp4\n",
      "... command successful.\n"
     ]
    },
    {
     "name": "stderr",
     "output_type": "stream",
     "text": [
      "\n"
     ]
    },
    {
     "name": "stdout",
     "output_type": "stream",
     "text": [
      "[MoviePy] Writing audio in ./audio-classification/data/output/2.wav\n"
     ]
    },
    {
     "name": "stderr",
     "output_type": "stream",
     "text": [
      "100%|██████████| 111/111 [00:00<00:00, 955.47it/s]"
     ]
    },
    {
     "name": "stdout",
     "output_type": "stream",
     "text": [
      "[MoviePy] Done.\n",
      "3\n",
      "False\n",
      "\n",
      "[MoviePy] Running:\n",
      ">>> /Users/smlee/Library/Application Support/imageio/ffmpeg/ffmpeg-osx-v3.2.4 -y -i ./test_sk.mp4 -ss 10.00 -t 5.00 -vcodec copy -acodec copy ./audio-classification/data/output/3.mp4"
     ]
    },
    {
     "name": "stderr",
     "output_type": "stream",
     "text": [
      "\n"
     ]
    },
    {
     "name": "stdout",
     "output_type": "stream",
     "text": [
      "\n",
      "... command successful.\n",
      "[MoviePy] Writing audio in ./audio-classification/data/output/3.wav\n"
     ]
    },
    {
     "name": "stderr",
     "output_type": "stream",
     "text": [
      "100%|██████████| 111/111 [00:00<00:00, 1684.25it/s]"
     ]
    },
    {
     "name": "stdout",
     "output_type": "stream",
     "text": [
      "[MoviePy] Done.\n",
      "4\n",
      "False\n",
      "\n",
      "[MoviePy] Running:\n",
      ">>> /Users/smlee/Library/Application Support/imageio/ffmpeg/ffmpeg-osx-v3.2.4 -y -i ./test_sk.mp4 -ss 15.00 -t 5.00 -vcodec copy -acodec copy ./audio-classification/data/output/4.mp4\n",
      "... command successful.\n"
     ]
    },
    {
     "name": "stderr",
     "output_type": "stream",
     "text": [
      "\n"
     ]
    },
    {
     "name": "stdout",
     "output_type": "stream",
     "text": [
      "[MoviePy] Writing audio in ./audio-classification/data/output/4.wav\n"
     ]
    },
    {
     "name": "stderr",
     "output_type": "stream",
     "text": [
      "100%|██████████| 111/111 [00:00<00:00, 967.77it/s]"
     ]
    },
    {
     "name": "stdout",
     "output_type": "stream",
     "text": [
      "[MoviePy] Done.\n",
      "5\n",
      "False\n",
      "\n",
      "[MoviePy] Running:\n",
      ">>> /Users/smlee/Library/Application Support/imageio/ffmpeg/ffmpeg-osx-v3.2.4 -y -i ./test_sk.mp4 -ss 20.00 -t 5.00 -vcodec copy -acodec copy ./audio-classification/data/output/5.mp4"
     ]
    },
    {
     "name": "stderr",
     "output_type": "stream",
     "text": [
      "\n"
     ]
    },
    {
     "name": "stdout",
     "output_type": "stream",
     "text": [
      "\n",
      "... command successful.\n",
      "[MoviePy] Writing audio in ./audio-classification/data/output/5.wav\n"
     ]
    },
    {
     "name": "stderr",
     "output_type": "stream",
     "text": [
      "100%|██████████| 111/111 [00:00<00:00, 1774.89it/s]"
     ]
    },
    {
     "name": "stdout",
     "output_type": "stream",
     "text": [
      "[MoviePy] Done.\n",
      "6\n",
      "False\n",
      "\n",
      "[MoviePy] Running:\n",
      ">>> /Users/smlee/Library/Application Support/imageio/ffmpeg/ffmpeg-osx-v3.2.4 -y -i ./test_sk.mp4 -ss 25.00 -t 5.00 -vcodec copy -acodec copy ./audio-classification/data/output/6.mp4\n",
      "... command successful.\n"
     ]
    },
    {
     "name": "stderr",
     "output_type": "stream",
     "text": [
      "\n"
     ]
    },
    {
     "name": "stdout",
     "output_type": "stream",
     "text": [
      "[MoviePy] Writing audio in ./audio-classification/data/output/6.wav\n"
     ]
    },
    {
     "name": "stderr",
     "output_type": "stream",
     "text": [
      "100%|██████████| 111/111 [00:00<00:00, 906.73it/s]"
     ]
    },
    {
     "name": "stdout",
     "output_type": "stream",
     "text": [
      "[MoviePy] Done.\n",
      "7\n",
      "False\n",
      "\n",
      "[MoviePy] Running:\n",
      ">>> /Users/smlee/Library/Application Support/imageio/ffmpeg/ffmpeg-osx-v3.2.4 -y -i ./test_sk.mp4 -ss 30.00 -t 5.00 -vcodec copy -acodec copy ./audio-classification/data/output/7.mp4"
     ]
    },
    {
     "name": "stderr",
     "output_type": "stream",
     "text": [
      "\n"
     ]
    },
    {
     "name": "stdout",
     "output_type": "stream",
     "text": [
      "\n",
      "... command successful.\n",
      "[MoviePy] Writing audio in ./audio-classification/data/output/7.wav\n"
     ]
    },
    {
     "name": "stderr",
     "output_type": "stream",
     "text": [
      "100%|██████████| 111/111 [00:00<00:00, 1610.80it/s]"
     ]
    },
    {
     "name": "stdout",
     "output_type": "stream",
     "text": [
      "[MoviePy] Done.\n",
      "8\n",
      "False\n",
      "\n",
      "[MoviePy] Running:\n",
      ">>> /Users/smlee/Library/Application Support/imageio/ffmpeg/ffmpeg-osx-v3.2.4 -y -i ./test_sk.mp4 -ss 35.00 -t 5.00 -vcodec copy -acodec copy ./audio-classification/data/output/8.mp4\n",
      "... command successful.\n"
     ]
    },
    {
     "name": "stderr",
     "output_type": "stream",
     "text": [
      "\n"
     ]
    },
    {
     "name": "stdout",
     "output_type": "stream",
     "text": [
      "[MoviePy] Writing audio in ./audio-classification/data/output/8.wav\n"
     ]
    },
    {
     "name": "stderr",
     "output_type": "stream",
     "text": [
      "100%|██████████| 111/111 [00:00<00:00, 1691.84it/s]"
     ]
    },
    {
     "name": "stdout",
     "output_type": "stream",
     "text": [
      "[MoviePy] Done.\n",
      "9\n",
      "False\n",
      "\n",
      "[MoviePy] Running:\n",
      ">>> /Users/smlee/Library/Application Support/imageio/ffmpeg/ffmpeg-osx-v3.2.4 -y -i ./test_sk.mp4 -ss 40.00 -t 5.00 -vcodec copy -acodec copy ./audio-classification/data/output/9.mp4\n",
      "... command successful.\n"
     ]
    },
    {
     "name": "stderr",
     "output_type": "stream",
     "text": [
      "\n"
     ]
    },
    {
     "name": "stdout",
     "output_type": "stream",
     "text": [
      "[MoviePy] Writing audio in ./audio-classification/data/output/9.wav\n"
     ]
    },
    {
     "name": "stderr",
     "output_type": "stream",
     "text": [
      "100%|██████████| 111/111 [00:00<00:00, 1675.83it/s]"
     ]
    },
    {
     "name": "stdout",
     "output_type": "stream",
     "text": [
      "[MoviePy] Done.\n",
      "10\n",
      "False\n",
      "\n",
      "[MoviePy] Running:\n",
      ">>> /Users/smlee/Library/Application Support/imageio/ffmpeg/ffmpeg-osx-v3.2.4 -y -i ./test_sk.mp4 -ss 45.00 -t 5.00 -vcodec copy -acodec copy ./audio-classification/data/output/10.mp4\n",
      "... command successful.\n"
     ]
    },
    {
     "name": "stderr",
     "output_type": "stream",
     "text": [
      "\n"
     ]
    },
    {
     "name": "stdout",
     "output_type": "stream",
     "text": [
      "[MoviePy] Writing audio in ./audio-classification/data/output/10.wav\n"
     ]
    },
    {
     "name": "stderr",
     "output_type": "stream",
     "text": [
      "100%|██████████| 111/111 [00:00<00:00, 610.55it/s]"
     ]
    },
    {
     "name": "stdout",
     "output_type": "stream",
     "text": [
      "[MoviePy] Done.\n",
      "11\n",
      "False\n",
      "\n",
      "[MoviePy] Running:\n",
      ">>> /Users/smlee/Library/Application Support/imageio/ffmpeg/ffmpeg-osx-v3.2.4 -y -i ./test_sk.mp4 -ss 50.00 -t 5.00 -vcodec copy -acodec copy ./audio-classification/data/output/11.mp4"
     ]
    },
    {
     "name": "stderr",
     "output_type": "stream",
     "text": [
      "\n"
     ]
    },
    {
     "name": "stdout",
     "output_type": "stream",
     "text": [
      "\n",
      "... command successful.\n",
      "[MoviePy] Writing audio in ./audio-classification/data/output/11.wav\n"
     ]
    },
    {
     "name": "stderr",
     "output_type": "stream",
     "text": [
      "100%|██████████| 111/111 [00:00<00:00, 1628.86it/s]"
     ]
    },
    {
     "name": "stdout",
     "output_type": "stream",
     "text": [
      "[MoviePy] Done.\n",
      "12\n",
      "False\n",
      "\n",
      "[MoviePy] Running:\n",
      ">>> /Users/smlee/Library/Application Support/imageio/ffmpeg/ffmpeg-osx-v3.2.4 -y -i ./test_sk.mp4 -ss 55.00 -t 5.00 -vcodec copy -acodec copy ./audio-classification/data/output/12.mp4\n",
      "... command successful.\n"
     ]
    },
    {
     "name": "stderr",
     "output_type": "stream",
     "text": [
      "\n"
     ]
    },
    {
     "name": "stdout",
     "output_type": "stream",
     "text": [
      "[MoviePy] Writing audio in ./audio-classification/data/output/12.wav\n"
     ]
    },
    {
     "name": "stderr",
     "output_type": "stream",
     "text": [
      "100%|██████████| 111/111 [00:00<00:00, 1612.03it/s]"
     ]
    },
    {
     "name": "stdout",
     "output_type": "stream",
     "text": [
      "[MoviePy] Done.\n",
      "13\n",
      "False\n",
      "\n",
      "[MoviePy] Running:\n",
      ">>> /Users/smlee/Library/Application Support/imageio/ffmpeg/ffmpeg-osx-v3.2.4 -y -i ./test_sk.mp4 -ss 60.00 -t 5.00 -vcodec copy -acodec copy ./audio-classification/data/output/13.mp4\n",
      "... command successful.\n"
     ]
    },
    {
     "name": "stderr",
     "output_type": "stream",
     "text": [
      "\n"
     ]
    },
    {
     "name": "stdout",
     "output_type": "stream",
     "text": [
      "[MoviePy] Writing audio in ./audio-classification/data/output/13.wav\n"
     ]
    },
    {
     "name": "stderr",
     "output_type": "stream",
     "text": [
      "100%|██████████| 111/111 [00:00<00:00, 1645.73it/s]"
     ]
    },
    {
     "name": "stdout",
     "output_type": "stream",
     "text": [
      "[MoviePy] Done.\n",
      "14\n",
      "False\n",
      "\n",
      "[MoviePy] Running:\n",
      ">>> /Users/smlee/Library/Application Support/imageio/ffmpeg/ffmpeg-osx-v3.2.4 -y -i ./test_sk.mp4 -ss 65.00 -t 5.00 -vcodec copy -acodec copy ./audio-classification/data/output/14.mp4\n",
      "... command successful.\n"
     ]
    },
    {
     "name": "stderr",
     "output_type": "stream",
     "text": [
      "\n"
     ]
    },
    {
     "name": "stdout",
     "output_type": "stream",
     "text": [
      "[MoviePy] Writing audio in ./audio-classification/data/output/14.wav\n"
     ]
    },
    {
     "name": "stderr",
     "output_type": "stream",
     "text": [
      "100%|██████████| 111/111 [00:00<00:00, 1613.89it/s]"
     ]
    },
    {
     "name": "stdout",
     "output_type": "stream",
     "text": [
      "[MoviePy] Done.\n",
      "15\n",
      "False\n",
      "\n",
      "[MoviePy] Running:\n",
      ">>> /Users/smlee/Library/Application Support/imageio/ffmpeg/ffmpeg-osx-v3.2.4 -y -i ./test_sk.mp4 -ss 70.00 -t 5.00 -vcodec copy -acodec copy ./audio-classification/data/output/15.mp4\n",
      "... command successful.\n"
     ]
    },
    {
     "name": "stderr",
     "output_type": "stream",
     "text": [
      "\n"
     ]
    },
    {
     "name": "stdout",
     "output_type": "stream",
     "text": [
      "[MoviePy] Writing audio in ./audio-classification/data/output/15.wav\n"
     ]
    },
    {
     "name": "stderr",
     "output_type": "stream",
     "text": [
      "100%|██████████| 111/111 [00:00<00:00, 1637.79it/s]"
     ]
    },
    {
     "name": "stdout",
     "output_type": "stream",
     "text": [
      "[MoviePy] Done.\n",
      "16\n",
      "False\n",
      "\n",
      "[MoviePy] Running:\n",
      ">>> /Users/smlee/Library/Application Support/imageio/ffmpeg/ffmpeg-osx-v3.2.4 -y -i ./test_sk.mp4 -ss 75.00 -t 5.00 -vcodec copy -acodec copy ./audio-classification/data/output/16.mp4\n",
      "... command successful.\n"
     ]
    },
    {
     "name": "stderr",
     "output_type": "stream",
     "text": [
      "\n"
     ]
    },
    {
     "name": "stdout",
     "output_type": "stream",
     "text": [
      "[MoviePy] Writing audio in ./audio-classification/data/output/16.wav\n"
     ]
    },
    {
     "name": "stderr",
     "output_type": "stream",
     "text": [
      "100%|██████████| 111/111 [00:00<00:00, 1680.17it/s]"
     ]
    },
    {
     "name": "stdout",
     "output_type": "stream",
     "text": [
      "[MoviePy] Done.\n",
      "17\n",
      "False\n",
      "\n",
      "[MoviePy] Running:\n",
      ">>> /Users/smlee/Library/Application Support/imageio/ffmpeg/ffmpeg-osx-v3.2.4 -y -i ./test_sk.mp4 -ss 80.00 -t 5.00 -vcodec copy -acodec copy ./audio-classification/data/output/17.mp4\n",
      "... command successful.\n"
     ]
    },
    {
     "name": "stderr",
     "output_type": "stream",
     "text": [
      "\n"
     ]
    },
    {
     "name": "stdout",
     "output_type": "stream",
     "text": [
      "[MoviePy] Writing audio in ./audio-classification/data/output/17.wav\n"
     ]
    },
    {
     "name": "stderr",
     "output_type": "stream",
     "text": [
      "100%|██████████| 111/111 [00:00<00:00, 1530.44it/s]"
     ]
    },
    {
     "name": "stdout",
     "output_type": "stream",
     "text": [
      "[MoviePy] Done.\n",
      "18\n",
      "False\n",
      "\n",
      "[MoviePy] Running:\n",
      ">>> /Users/smlee/Library/Application Support/imageio/ffmpeg/ffmpeg-osx-v3.2.4 -y -i ./test_sk.mp4 -ss 85.00 -t 5.00 -vcodec copy -acodec copy ./audio-classification/data/output/18.mp4"
     ]
    },
    {
     "name": "stderr",
     "output_type": "stream",
     "text": [
      "\n"
     ]
    },
    {
     "name": "stdout",
     "output_type": "stream",
     "text": [
      "\n",
      "... command successful.\n",
      "[MoviePy] Writing audio in ./audio-classification/data/output/18.wav\n"
     ]
    },
    {
     "name": "stderr",
     "output_type": "stream",
     "text": [
      "100%|██████████| 111/111 [00:00<00:00, 1699.59it/s]"
     ]
    },
    {
     "name": "stdout",
     "output_type": "stream",
     "text": [
      "[MoviePy] Done.\n",
      "19\n",
      "False\n",
      "\n",
      "[MoviePy] Running:\n",
      ">>> /Users/smlee/Library/Application Support/imageio/ffmpeg/ffmpeg-osx-v3.2.4 -y -i ./test_sk.mp4 -ss 90.00 -t 5.00 -vcodec copy -acodec copy ./audio-classification/data/output/19.mp4\n",
      "... command successful.\n"
     ]
    },
    {
     "name": "stderr",
     "output_type": "stream",
     "text": [
      "\n"
     ]
    },
    {
     "name": "stdout",
     "output_type": "stream",
     "text": [
      "[MoviePy] Writing audio in ./audio-classification/data/output/19.wav\n"
     ]
    },
    {
     "name": "stderr",
     "output_type": "stream",
     "text": [
      "100%|██████████| 111/111 [00:00<00:00, 1638.94it/s]"
     ]
    },
    {
     "name": "stdout",
     "output_type": "stream",
     "text": [
      "[MoviePy] Done.\n",
      "20\n",
      "False\n",
      "\n",
      "[MoviePy] Running:\n",
      ">>> /Users/smlee/Library/Application Support/imageio/ffmpeg/ffmpeg-osx-v3.2.4 -y -i ./test_sk.mp4 -ss 95.00 -t 5.00 -vcodec copy -acodec copy ./audio-classification/data/output/20.mp4"
     ]
    },
    {
     "name": "stderr",
     "output_type": "stream",
     "text": [
      "\n"
     ]
    },
    {
     "name": "stdout",
     "output_type": "stream",
     "text": [
      "\n",
      "... command successful.\n",
      "[MoviePy] Writing audio in ./audio-classification/data/output/20.wav\n"
     ]
    },
    {
     "name": "stderr",
     "output_type": "stream",
     "text": [
      "100%|██████████| 111/111 [00:00<00:00, 1715.01it/s]"
     ]
    },
    {
     "name": "stdout",
     "output_type": "stream",
     "text": [
      "[MoviePy] Done.\n",
      "21\n",
      "False\n",
      "\n",
      "[MoviePy] Running:\n",
      ">>> /Users/smlee/Library/Application Support/imageio/ffmpeg/ffmpeg-osx-v3.2.4 -y -i ./test_sk.mp4 -ss 100.00 -t 5.00 -vcodec copy -acodec copy ./audio-classification/data/output/21.mp4"
     ]
    },
    {
     "name": "stderr",
     "output_type": "stream",
     "text": [
      "\n"
     ]
    },
    {
     "name": "stdout",
     "output_type": "stream",
     "text": [
      "\n",
      "... command successful.\n",
      "[MoviePy] Writing audio in ./audio-classification/data/output/21.wav\n"
     ]
    },
    {
     "name": "stderr",
     "output_type": "stream",
     "text": [
      "100%|██████████| 111/111 [00:00<00:00, 831.90it/s]"
     ]
    },
    {
     "name": "stdout",
     "output_type": "stream",
     "text": [
      "[MoviePy] Done.\n",
      "22\n",
      "False\n",
      "\n",
      "[MoviePy] Running:\n",
      ">>> /Users/smlee/Library/Application Support/imageio/ffmpeg/ffmpeg-osx-v3.2.4 -y -i ./test_sk.mp4 -ss 105.00 -t 5.00 -vcodec copy -acodec copy ./audio-classification/data/output/22.mp4"
     ]
    },
    {
     "name": "stderr",
     "output_type": "stream",
     "text": [
      "\n"
     ]
    },
    {
     "name": "stdout",
     "output_type": "stream",
     "text": [
      "\n",
      "... command successful.\n",
      "[MoviePy] Writing audio in ./audio-classification/data/output/22.wav\n"
     ]
    },
    {
     "name": "stderr",
     "output_type": "stream",
     "text": [
      "100%|██████████| 111/111 [00:00<00:00, 1556.67it/s]"
     ]
    },
    {
     "name": "stdout",
     "output_type": "stream",
     "text": [
      "[MoviePy] Done.\n",
      "23\n",
      "False\n",
      "\n",
      "[MoviePy] Running:\n",
      ">>> /Users/smlee/Library/Application Support/imageio/ffmpeg/ffmpeg-osx-v3.2.4 -y -i ./test_sk.mp4 -ss 110.00 -t 5.00 -vcodec copy -acodec copy ./audio-classification/data/output/23.mp4"
     ]
    },
    {
     "name": "stderr",
     "output_type": "stream",
     "text": [
      "\n"
     ]
    },
    {
     "name": "stdout",
     "output_type": "stream",
     "text": [
      "\n",
      "... command successful.\n",
      "[MoviePy] Writing audio in ./audio-classification/data/output/23.wav\n"
     ]
    },
    {
     "name": "stderr",
     "output_type": "stream",
     "text": [
      "100%|██████████| 111/111 [00:00<00:00, 1666.12it/s]"
     ]
    },
    {
     "name": "stdout",
     "output_type": "stream",
     "text": [
      "[MoviePy] Done.\n",
      "24\n",
      "False\n",
      "\n",
      "[MoviePy] Running:\n",
      ">>> /Users/smlee/Library/Application Support/imageio/ffmpeg/ffmpeg-osx-v3.2.4 -y -i ./test_sk.mp4 -ss 115.00 -t 5.00 -vcodec copy -acodec copy ./audio-classification/data/output/24.mp4\n",
      "... command successful.\n"
     ]
    },
    {
     "name": "stderr",
     "output_type": "stream",
     "text": [
      "\n"
     ]
    },
    {
     "name": "stdout",
     "output_type": "stream",
     "text": [
      "[MoviePy] Writing audio in ./audio-classification/data/output/24.wav\n"
     ]
    },
    {
     "name": "stderr",
     "output_type": "stream",
     "text": [
      "100%|██████████| 111/111 [00:00<00:00, 1555.71it/s]"
     ]
    },
    {
     "name": "stdout",
     "output_type": "stream",
     "text": [
      "[MoviePy] Done.\n",
      "25\n",
      "False\n",
      "\n",
      "[MoviePy] Running:\n",
      ">>> /Users/smlee/Library/Application Support/imageio/ffmpeg/ffmpeg-osx-v3.2.4 -y -i ./test_sk.mp4 -ss 120.00 -t 5.00 -vcodec copy -acodec copy ./audio-classification/data/output/25.mp4"
     ]
    },
    {
     "name": "stderr",
     "output_type": "stream",
     "text": [
      "\n"
     ]
    },
    {
     "name": "stdout",
     "output_type": "stream",
     "text": [
      "\n",
      "... command successful.\n",
      "[MoviePy] Writing audio in ./audio-classification/data/output/25.wav\n"
     ]
    },
    {
     "name": "stderr",
     "output_type": "stream",
     "text": [
      "100%|██████████| 111/111 [00:00<00:00, 1637.12it/s]"
     ]
    },
    {
     "name": "stdout",
     "output_type": "stream",
     "text": [
      "[MoviePy] Done.\n",
      "26\n",
      "False\n",
      "\n",
      "[MoviePy] Running:\n",
      ">>> /Users/smlee/Library/Application Support/imageio/ffmpeg/ffmpeg-osx-v3.2.4 -y -i ./test_sk.mp4 -ss 125.00 -t 5.00 -vcodec copy -acodec copy ./audio-classification/data/output/26.mp4"
     ]
    },
    {
     "name": "stderr",
     "output_type": "stream",
     "text": [
      "\n"
     ]
    },
    {
     "name": "stdout",
     "output_type": "stream",
     "text": [
      "\n",
      "... command successful.\n",
      "[MoviePy] Writing audio in ./audio-classification/data/output/26.wav\n"
     ]
    },
    {
     "name": "stderr",
     "output_type": "stream",
     "text": [
      "100%|██████████| 111/111 [00:00<00:00, 1831.35it/s]"
     ]
    },
    {
     "name": "stdout",
     "output_type": "stream",
     "text": [
      "[MoviePy] Done.\n",
      "27\n",
      "False\n",
      "\n",
      "[MoviePy] Running:\n",
      ">>> /Users/smlee/Library/Application Support/imageio/ffmpeg/ffmpeg-osx-v3.2.4 -y -i ./test_sk.mp4 -ss 130.00 -t 5.00 -vcodec copy -acodec copy ./audio-classification/data/output/27.mp4"
     ]
    },
    {
     "name": "stderr",
     "output_type": "stream",
     "text": [
      "\n"
     ]
    },
    {
     "name": "stdout",
     "output_type": "stream",
     "text": [
      "\n",
      "... command successful.\n",
      "[MoviePy] Writing audio in ./audio-classification/data/output/27.wav\n"
     ]
    },
    {
     "name": "stderr",
     "output_type": "stream",
     "text": [
      "100%|██████████| 111/111 [00:00<00:00, 1626.14it/s]"
     ]
    },
    {
     "name": "stdout",
     "output_type": "stream",
     "text": [
      "[MoviePy] Done.\n",
      "28\n",
      "False\n",
      "\n",
      "[MoviePy] Running:\n",
      ">>> /Users/smlee/Library/Application Support/imageio/ffmpeg/ffmpeg-osx-v3.2.4 -y -i ./test_sk.mp4 -ss 135.00 -t 5.00 -vcodec copy -acodec copy ./audio-classification/data/output/28.mp4"
     ]
    },
    {
     "name": "stderr",
     "output_type": "stream",
     "text": [
      "\n"
     ]
    },
    {
     "name": "stdout",
     "output_type": "stream",
     "text": [
      "\n",
      "... command successful.\n",
      "[MoviePy] Writing audio in ./audio-classification/data/output/28.wav\n"
     ]
    },
    {
     "name": "stderr",
     "output_type": "stream",
     "text": [
      "100%|██████████| 111/111 [00:00<00:00, 1641.62it/s]"
     ]
    },
    {
     "name": "stdout",
     "output_type": "stream",
     "text": [
      "[MoviePy] Done.\n",
      "29\n",
      "False\n",
      "\n",
      "[MoviePy] Running:\n",
      ">>> /Users/smlee/Library/Application Support/imageio/ffmpeg/ffmpeg-osx-v3.2.4 -y -i ./test_sk.mp4 -ss 140.00 -t 5.00 -vcodec copy -acodec copy ./audio-classification/data/output/29.mp4"
     ]
    },
    {
     "name": "stderr",
     "output_type": "stream",
     "text": [
      "\n"
     ]
    },
    {
     "name": "stdout",
     "output_type": "stream",
     "text": [
      "\n",
      "... command successful.\n",
      "[MoviePy] Writing audio in ./audio-classification/data/output/29.wav\n"
     ]
    },
    {
     "name": "stderr",
     "output_type": "stream",
     "text": [
      "100%|██████████| 111/111 [00:00<00:00, 951.16it/s]"
     ]
    },
    {
     "name": "stdout",
     "output_type": "stream",
     "text": [
      "[MoviePy] Done.\n",
      "30\n",
      "False\n",
      "\n",
      "[MoviePy] Running:\n",
      ">>> /Users/smlee/Library/Application Support/imageio/ffmpeg/ffmpeg-osx-v3.2.4 -y -i ./test_sk.mp4 -ss 145.00 -t 5.00 -vcodec copy -acodec copy ./audio-classification/data/output/30.mp4"
     ]
    },
    {
     "name": "stderr",
     "output_type": "stream",
     "text": [
      "\n"
     ]
    },
    {
     "name": "stdout",
     "output_type": "stream",
     "text": [
      "\n",
      "... command successful.\n",
      "[MoviePy] Writing audio in ./audio-classification/data/output/30.wav\n"
     ]
    },
    {
     "name": "stderr",
     "output_type": "stream",
     "text": [
      "100%|██████████| 111/111 [00:00<00:00, 1588.14it/s]"
     ]
    },
    {
     "name": "stdout",
     "output_type": "stream",
     "text": [
      "[MoviePy] Done.\n",
      "31\n",
      "False\n",
      "\n",
      "[MoviePy] Running:\n",
      ">>> /Users/smlee/Library/Application Support/imageio/ffmpeg/ffmpeg-osx-v3.2.4 -y -i ./test_sk.mp4 -ss 150.00 -t 5.00 -vcodec copy -acodec copy ./audio-classification/data/output/31.mp4"
     ]
    },
    {
     "name": "stderr",
     "output_type": "stream",
     "text": [
      "\n"
     ]
    },
    {
     "name": "stdout",
     "output_type": "stream",
     "text": [
      "\n",
      "... command successful.\n",
      "[MoviePy] Writing audio in ./audio-classification/data/output/31.wav\n"
     ]
    },
    {
     "name": "stderr",
     "output_type": "stream",
     "text": [
      "100%|██████████| 111/111 [00:00<00:00, 1649.82it/s]"
     ]
    },
    {
     "name": "stdout",
     "output_type": "stream",
     "text": [
      "[MoviePy] Done.\n",
      "32\n",
      "False\n",
      "\n",
      "[MoviePy] Running:\n",
      ">>> /Users/smlee/Library/Application Support/imageio/ffmpeg/ffmpeg-osx-v3.2.4 -y -i ./test_sk.mp4 -ss 155.00 -t 5.00 -vcodec copy -acodec copy ./audio-classification/data/output/32.mp4"
     ]
    },
    {
     "name": "stderr",
     "output_type": "stream",
     "text": [
      "\n"
     ]
    },
    {
     "name": "stdout",
     "output_type": "stream",
     "text": [
      "\n",
      "... command successful.\n",
      "[MoviePy] Writing audio in ./audio-classification/data/output/32.wav\n"
     ]
    },
    {
     "name": "stderr",
     "output_type": "stream",
     "text": [
      "100%|██████████| 111/111 [00:00<00:00, 1650.39it/s]"
     ]
    },
    {
     "name": "stdout",
     "output_type": "stream",
     "text": [
      "[MoviePy] Done.\n",
      "33\n",
      "False\n",
      "\n",
      "[MoviePy] Running:\n",
      ">>> /Users/smlee/Library/Application Support/imageio/ffmpeg/ffmpeg-osx-v3.2.4 -y -i ./test_sk.mp4 -ss 160.00 -t 5.00 -vcodec copy -acodec copy ./audio-classification/data/output/33.mp4"
     ]
    },
    {
     "name": "stderr",
     "output_type": "stream",
     "text": [
      "\n"
     ]
    },
    {
     "name": "stdout",
     "output_type": "stream",
     "text": [
      "\n",
      "... command successful.\n",
      "[MoviePy] Writing audio in ./audio-classification/data/output/33.wav\n"
     ]
    },
    {
     "name": "stderr",
     "output_type": "stream",
     "text": [
      "100%|██████████| 111/111 [00:00<00:00, 1615.51it/s]"
     ]
    },
    {
     "name": "stdout",
     "output_type": "stream",
     "text": [
      "[MoviePy] Done.\n",
      "34\n",
      "False\n",
      "\n",
      "[MoviePy] Running:\n",
      ">>> /Users/smlee/Library/Application Support/imageio/ffmpeg/ffmpeg-osx-v3.2.4 -y -i ./test_sk.mp4 -ss 165.00 -t 5.00 -vcodec copy -acodec copy ./audio-classification/data/output/34.mp4"
     ]
    },
    {
     "name": "stderr",
     "output_type": "stream",
     "text": [
      "\n"
     ]
    },
    {
     "name": "stdout",
     "output_type": "stream",
     "text": [
      "\n",
      "... command successful.\n",
      "[MoviePy] Writing audio in ./audio-classification/data/output/34.wav\n"
     ]
    },
    {
     "name": "stderr",
     "output_type": "stream",
     "text": [
      "100%|██████████| 111/111 [00:00<00:00, 1685.16it/s]"
     ]
    },
    {
     "name": "stdout",
     "output_type": "stream",
     "text": [
      "[MoviePy] Done.\n",
      "35\n",
      "False\n",
      "\n",
      "[MoviePy] Running:\n",
      ">>> /Users/smlee/Library/Application Support/imageio/ffmpeg/ffmpeg-osx-v3.2.4 -y -i ./test_sk.mp4 -ss 170.00 -t 5.00 -vcodec copy -acodec copy ./audio-classification/data/output/35.mp4"
     ]
    },
    {
     "name": "stderr",
     "output_type": "stream",
     "text": [
      "\n"
     ]
    },
    {
     "name": "stdout",
     "output_type": "stream",
     "text": [
      "\n",
      "... command successful.\n",
      "[MoviePy] Writing audio in ./audio-classification/data/output/35.wav\n"
     ]
    },
    {
     "name": "stderr",
     "output_type": "stream",
     "text": [
      "100%|██████████| 111/111 [00:00<00:00, 1750.32it/s]"
     ]
    },
    {
     "name": "stdout",
     "output_type": "stream",
     "text": [
      "[MoviePy] Done.\n",
      "36\n",
      "False\n",
      "\n",
      "[MoviePy] Running:\n",
      ">>> /Users/smlee/Library/Application Support/imageio/ffmpeg/ffmpeg-osx-v3.2.4 -y -i ./test_sk.mp4 -ss 175.00 -t 5.00 -vcodec copy -acodec copy ./audio-classification/data/output/36.mp4"
     ]
    },
    {
     "name": "stderr",
     "output_type": "stream",
     "text": [
      "\n"
     ]
    },
    {
     "name": "stdout",
     "output_type": "stream",
     "text": [
      "\n",
      "... command successful.\n",
      "[MoviePy] Writing audio in ./audio-classification/data/output/36.wav\n"
     ]
    },
    {
     "name": "stderr",
     "output_type": "stream",
     "text": [
      "100%|██████████| 111/111 [00:00<00:00, 1666.12it/s]"
     ]
    },
    {
     "name": "stdout",
     "output_type": "stream",
     "text": [
      "[MoviePy] Done.\n",
      "37\n",
      "False\n",
      "\n",
      "[MoviePy] Running:\n",
      ">>> /Users/smlee/Library/Application Support/imageio/ffmpeg/ffmpeg-osx-v3.2.4 -y -i ./test_sk.mp4 -ss 180.00 -t 5.00 -vcodec copy -acodec copy ./audio-classification/data/output/37.mp4"
     ]
    },
    {
     "name": "stderr",
     "output_type": "stream",
     "text": [
      "\n"
     ]
    },
    {
     "name": "stdout",
     "output_type": "stream",
     "text": [
      "\n",
      "... command successful.\n",
      "[MoviePy] Writing audio in ./audio-classification/data/output/37.wav\n"
     ]
    },
    {
     "name": "stderr",
     "output_type": "stream",
     "text": [
      "100%|██████████| 111/111 [00:00<00:00, 1644.24it/s]"
     ]
    },
    {
     "name": "stdout",
     "output_type": "stream",
     "text": [
      "[MoviePy] Done.\n",
      "38\n",
      "False\n",
      "\n",
      "[MoviePy] Running:\n",
      ">>> /Users/smlee/Library/Application Support/imageio/ffmpeg/ffmpeg-osx-v3.2.4 -y -i ./test_sk.mp4 -ss 185.00 -t 5.00 -vcodec copy -acodec copy ./audio-classification/data/output/38.mp4"
     ]
    },
    {
     "name": "stderr",
     "output_type": "stream",
     "text": [
      "\n"
     ]
    },
    {
     "name": "stdout",
     "output_type": "stream",
     "text": [
      "\n",
      "... command successful.\n",
      "[MoviePy] Writing audio in ./audio-classification/data/output/38.wav\n"
     ]
    },
    {
     "name": "stderr",
     "output_type": "stream",
     "text": [
      "100%|██████████| 111/111 [00:00<00:00, 1601.71it/s]"
     ]
    },
    {
     "name": "stdout",
     "output_type": "stream",
     "text": [
      "[MoviePy] Done.\n",
      "39\n",
      "False\n",
      "\n",
      "[MoviePy] Running:\n",
      ">>> /Users/smlee/Library/Application Support/imageio/ffmpeg/ffmpeg-osx-v3.2.4 -y -i ./test_sk.mp4 -ss 190.00 -t 5.00 -vcodec copy -acodec copy ./audio-classification/data/output/39.mp4"
     ]
    },
    {
     "name": "stderr",
     "output_type": "stream",
     "text": [
      "\n"
     ]
    },
    {
     "name": "stdout",
     "output_type": "stream",
     "text": [
      "\n",
      "... command successful.\n",
      "[MoviePy] Writing audio in ./audio-classification/data/output/39.wav\n"
     ]
    },
    {
     "name": "stderr",
     "output_type": "stream",
     "text": [
      "100%|██████████| 111/111 [00:00<00:00, 1685.73it/s]"
     ]
    },
    {
     "name": "stdout",
     "output_type": "stream",
     "text": [
      "[MoviePy] Done.\n",
      "40\n",
      "False\n",
      "\n",
      "[MoviePy] Running:\n",
      ">>> /Users/smlee/Library/Application Support/imageio/ffmpeg/ffmpeg-osx-v3.2.4 -y -i ./test_sk.mp4 -ss 195.00 -t 5.00 -vcodec copy -acodec copy ./audio-classification/data/output/40.mp4"
     ]
    },
    {
     "name": "stderr",
     "output_type": "stream",
     "text": [
      "\n"
     ]
    },
    {
     "name": "stdout",
     "output_type": "stream",
     "text": [
      "\n",
      "... command successful.\n",
      "[MoviePy] Writing audio in ./audio-classification/data/output/40.wav\n"
     ]
    },
    {
     "name": "stderr",
     "output_type": "stream",
     "text": [
      "100%|██████████| 111/111 [00:00<00:00, 1662.65it/s]"
     ]
    },
    {
     "name": "stdout",
     "output_type": "stream",
     "text": [
      "[MoviePy] Done.\n",
      "41\n",
      "False\n",
      "\n",
      "[MoviePy] Running:\n",
      ">>> /Users/smlee/Library/Application Support/imageio/ffmpeg/ffmpeg-osx-v3.2.4 -y -i ./test_sk.mp4 -ss 200.00 -t 5.00 -vcodec copy -acodec copy ./audio-classification/data/output/41.mp4"
     ]
    },
    {
     "name": "stderr",
     "output_type": "stream",
     "text": [
      "\n"
     ]
    },
    {
     "name": "stdout",
     "output_type": "stream",
     "text": [
      "\n",
      "... command successful.\n",
      "[MoviePy] Writing audio in ./audio-classification/data/output/41.wav\n"
     ]
    },
    {
     "name": "stderr",
     "output_type": "stream",
     "text": [
      "100%|██████████| 111/111 [00:00<00:00, 964.47it/s]"
     ]
    },
    {
     "name": "stdout",
     "output_type": "stream",
     "text": [
      "[MoviePy] Done.\n",
      "42\n",
      "False\n",
      "\n",
      "[MoviePy] Running:\n",
      ">>> /Users/smlee/Library/Application Support/imageio/ffmpeg/ffmpeg-osx-v3.2.4 -y -i ./test_sk.mp4 -ss 205.00 -t 5.00 -vcodec copy -acodec copy ./audio-classification/data/output/42.mp4"
     ]
    },
    {
     "name": "stderr",
     "output_type": "stream",
     "text": [
      "\n"
     ]
    },
    {
     "name": "stdout",
     "output_type": "stream",
     "text": [
      "\n",
      "... command successful.\n",
      "[MoviePy] Writing audio in ./audio-classification/data/output/42.wav\n"
     ]
    },
    {
     "name": "stderr",
     "output_type": "stream",
     "text": [
      "100%|██████████| 111/111 [00:00<00:00, 1583.05it/s]"
     ]
    },
    {
     "name": "stdout",
     "output_type": "stream",
     "text": [
      "[MoviePy] Done.\n",
      "43\n",
      "False\n",
      "\n",
      "[MoviePy] Running:\n",
      ">>> /Users/smlee/Library/Application Support/imageio/ffmpeg/ffmpeg-osx-v3.2.4 -y -i ./test_sk.mp4 -ss 210.00 -t 5.00 -vcodec copy -acodec copy ./audio-classification/data/output/43.mp4"
     ]
    },
    {
     "name": "stderr",
     "output_type": "stream",
     "text": [
      "\n"
     ]
    },
    {
     "name": "stdout",
     "output_type": "stream",
     "text": [
      "\n",
      "... command successful.\n",
      "[MoviePy] Writing audio in ./audio-classification/data/output/43.wav\n"
     ]
    },
    {
     "name": "stderr",
     "output_type": "stream",
     "text": [
      "100%|██████████| 111/111 [00:00<00:00, 640.68it/s]"
     ]
    },
    {
     "name": "stdout",
     "output_type": "stream",
     "text": [
      "[MoviePy] Done.\n",
      "44\n",
      "False\n",
      "\n",
      "[MoviePy] Running:\n",
      ">>> /Users/smlee/Library/Application Support/imageio/ffmpeg/ffmpeg-osx-v3.2.4 -y -i ./test_sk.mp4 -ss 215.00 -t 5.00 -vcodec copy -acodec copy ./audio-classification/data/output/44.mp4"
     ]
    },
    {
     "name": "stderr",
     "output_type": "stream",
     "text": [
      "\n"
     ]
    },
    {
     "name": "stdout",
     "output_type": "stream",
     "text": [
      "\n",
      "... command successful.\n",
      "[MoviePy] Writing audio in ./audio-classification/data/output/44.wav\n"
     ]
    },
    {
     "name": "stderr",
     "output_type": "stream",
     "text": [
      "100%|██████████| 111/111 [00:00<00:00, 1719.28it/s]"
     ]
    },
    {
     "name": "stdout",
     "output_type": "stream",
     "text": [
      "[MoviePy] Done.\n",
      "45\n",
      "False\n",
      "\n",
      "[MoviePy] Running:\n",
      ">>> /Users/smlee/Library/Application Support/imageio/ffmpeg/ffmpeg-osx-v3.2.4 -y -i ./test_sk.mp4 -ss 220.00 -t 5.00 -vcodec copy -acodec copy ./audio-classification/data/output/45.mp4"
     ]
    },
    {
     "name": "stderr",
     "output_type": "stream",
     "text": [
      "\n"
     ]
    },
    {
     "name": "stdout",
     "output_type": "stream",
     "text": [
      "\n",
      "... command successful.\n",
      "[MoviePy] Writing audio in ./audio-classification/data/output/45.wav\n"
     ]
    },
    {
     "name": "stderr",
     "output_type": "stream",
     "text": [
      "100%|██████████| 111/111 [00:00<00:00, 1729.48it/s]"
     ]
    },
    {
     "name": "stdout",
     "output_type": "stream",
     "text": [
      "[MoviePy] Done.\n",
      "46\n",
      "False\n",
      "\n",
      "[MoviePy] Running:\n",
      ">>> /Users/smlee/Library/Application Support/imageio/ffmpeg/ffmpeg-osx-v3.2.4 -y -i ./test_sk.mp4 -ss 225.00 -t 5.00 -vcodec copy -acodec copy ./audio-classification/data/output/46.mp4"
     ]
    },
    {
     "name": "stderr",
     "output_type": "stream",
     "text": [
      "\n"
     ]
    },
    {
     "name": "stdout",
     "output_type": "stream",
     "text": [
      "\n",
      "... command successful.\n",
      "[MoviePy] Writing audio in ./audio-classification/data/output/46.wav\n"
     ]
    },
    {
     "name": "stderr",
     "output_type": "stream",
     "text": [
      "100%|██████████| 111/111 [00:00<00:00, 1696.63it/s]"
     ]
    },
    {
     "name": "stdout",
     "output_type": "stream",
     "text": [
      "[MoviePy] Done.\n",
      "47\n",
      "False\n",
      "\n",
      "[MoviePy] Running:\n",
      ">>> /Users/smlee/Library/Application Support/imageio/ffmpeg/ffmpeg-osx-v3.2.4 -y -i ./test_sk.mp4 -ss 230.00 -t 5.00 -vcodec copy -acodec copy ./audio-classification/data/output/47.mp4"
     ]
    },
    {
     "name": "stderr",
     "output_type": "stream",
     "text": [
      "\n"
     ]
    },
    {
     "name": "stdout",
     "output_type": "stream",
     "text": [
      "\n",
      "... command successful.\n",
      "[MoviePy] Writing audio in ./audio-classification/data/output/47.wav\n"
     ]
    },
    {
     "name": "stderr",
     "output_type": "stream",
     "text": [
      "100%|██████████| 111/111 [00:00<00:00, 914.33it/s]"
     ]
    },
    {
     "name": "stdout",
     "output_type": "stream",
     "text": [
      "[MoviePy] Done.\n",
      "48\n",
      "False\n",
      "\n",
      "[MoviePy] Running:\n",
      ">>> /Users/smlee/Library/Application Support/imageio/ffmpeg/ffmpeg-osx-v3.2.4 -y -i ./test_sk.mp4 -ss 235.00 -t 5.00 -vcodec copy -acodec copy ./audio-classification/data/output/48.mp4"
     ]
    },
    {
     "name": "stderr",
     "output_type": "stream",
     "text": [
      "\n"
     ]
    },
    {
     "name": "stdout",
     "output_type": "stream",
     "text": [
      "\n",
      "... command successful.\n",
      "[MoviePy] Writing audio in ./audio-classification/data/output/48.wav\n"
     ]
    },
    {
     "name": "stderr",
     "output_type": "stream",
     "text": [
      "100%|██████████| 111/111 [00:00<00:00, 1680.67it/s]"
     ]
    },
    {
     "name": "stdout",
     "output_type": "stream",
     "text": [
      "[MoviePy] Done.\n",
      "49\n",
      "False\n",
      "\n",
      "[MoviePy] Running:\n",
      ">>> /Users/smlee/Library/Application Support/imageio/ffmpeg/ffmpeg-osx-v3.2.4 -y -i ./test_sk.mp4 -ss 240.00 -t 5.00 -vcodec copy -acodec copy ./audio-classification/data/output/49.mp4"
     ]
    },
    {
     "name": "stderr",
     "output_type": "stream",
     "text": [
      "\n"
     ]
    },
    {
     "name": "stdout",
     "output_type": "stream",
     "text": [
      "\n",
      "... command successful.\n",
      "[MoviePy] Writing audio in ./audio-classification/data/output/49.wav\n"
     ]
    },
    {
     "name": "stderr",
     "output_type": "stream",
     "text": [
      "100%|██████████| 111/111 [00:00<00:00, 1731.46it/s]"
     ]
    },
    {
     "name": "stdout",
     "output_type": "stream",
     "text": [
      "[MoviePy] Done.\n",
      "50\n",
      "False\n",
      "\n",
      "[MoviePy] Running:\n",
      ">>> /Users/smlee/Library/Application Support/imageio/ffmpeg/ffmpeg-osx-v3.2.4 -y -i ./test_sk.mp4 -ss 245.00 -t 5.00 -vcodec copy -acodec copy ./audio-classification/data/output/50.mp4"
     ]
    },
    {
     "name": "stderr",
     "output_type": "stream",
     "text": [
      "\n"
     ]
    },
    {
     "name": "stdout",
     "output_type": "stream",
     "text": [
      "\n",
      "... command successful.\n",
      "[MoviePy] Writing audio in ./audio-classification/data/output/50.wav\n"
     ]
    },
    {
     "name": "stderr",
     "output_type": "stream",
     "text": [
      "100%|██████████| 111/111 [00:00<00:00, 1685.67it/s]"
     ]
    },
    {
     "name": "stdout",
     "output_type": "stream",
     "text": [
      "[MoviePy] Done.\n",
      "51\n",
      "False\n",
      "\n",
      "[MoviePy] Running:\n",
      ">>> /Users/smlee/Library/Application Support/imageio/ffmpeg/ffmpeg-osx-v3.2.4 -y -i ./test_sk.mp4 -ss 250.00 -t 5.00 -vcodec copy -acodec copy ./audio-classification/data/output/51.mp4"
     ]
    },
    {
     "name": "stderr",
     "output_type": "stream",
     "text": [
      "\n"
     ]
    },
    {
     "name": "stdout",
     "output_type": "stream",
     "text": [
      "\n",
      "... command successful.\n",
      "[MoviePy] Writing audio in ./audio-classification/data/output/51.wav\n"
     ]
    },
    {
     "name": "stderr",
     "output_type": "stream",
     "text": [
      "100%|██████████| 111/111 [00:00<00:00, 1667.72it/s]"
     ]
    },
    {
     "name": "stdout",
     "output_type": "stream",
     "text": [
      "[MoviePy] Done.\n",
      "52\n",
      "False\n",
      "\n",
      "[MoviePy] Running:\n",
      ">>> /Users/smlee/Library/Application Support/imageio/ffmpeg/ffmpeg-osx-v3.2.4 -y -i ./test_sk.mp4 -ss 255.00 -t 5.00 -vcodec copy -acodec copy ./audio-classification/data/output/52.mp4"
     ]
    },
    {
     "name": "stderr",
     "output_type": "stream",
     "text": [
      "\n"
     ]
    },
    {
     "name": "stdout",
     "output_type": "stream",
     "text": [
      "\n",
      "... command successful.\n",
      "[MoviePy] Writing audio in ./audio-classification/data/output/52.wav\n"
     ]
    },
    {
     "name": "stderr",
     "output_type": "stream",
     "text": [
      "100%|██████████| 111/111 [00:00<00:00, 1602.36it/s]"
     ]
    },
    {
     "name": "stdout",
     "output_type": "stream",
     "text": [
      "[MoviePy] Done.\n",
      "53\n"
     ]
    },
    {
     "name": "stderr",
     "output_type": "stream",
     "text": [
      "\n"
     ]
    }
   ],
   "source": [
    "video_name = \"./test_sk.mp4\"\n",
    "duration = 5\n",
    "episode = \"\"\n",
    "\n",
    "idx = 1\n",
    "clip = VideoFileClip(video_name)\n",
    "\n",
    "length = clip.duration\n",
    "start = 0 # except begin_again is 10\n",
    "end = start + duration\n",
    "\n",
    "while end < length:\n",
    "\n",
    "    file_name = \"./audio-classification/data/output/\" +  episode + \"\" + str(idx)+ \".mp4\"\n",
    "    wav_name = \"./audio-classification/data/output/\"+episode + \"\" + str(idx) + \".wav\"\n",
    "    print(os.path.isfile(file_name))\n",
    "    if os.path.isfile(file_name) == False :\n",
    "        ffmpeg_extract_subclip(video_name, start, end, targetname=file_name)\n",
    "        clip.subclip(start,end).audio.write_audiofile(wav_name)\n",
    "\n",
    "    start = end\n",
    "    end = start + duration\n",
    "    if end >= length:\n",
    "        end = length\n",
    "    idx = idx + 1\n",
    "    print(idx)\n",
    "\n",
    "clip.close()"
   ]
  },
  {
   "cell_type": "code",
   "execution_count": 69,
   "metadata": {},
   "outputs": [],
   "source": [
    "# Get features and labels\n",
    "r = os.listdir(\"./audio-classification/data/\")\n"
   ]
  },
  {
   "cell_type": "code",
   "execution_count": 70,
   "metadata": {},
   "outputs": [
    {
     "name": "stdout",
     "output_type": "stream",
     "text": [
      ".DS_Store\n",
      "extract .DS_Store features done\n",
      "output\n",
      "./audio-classification/data/output/16.wav\n",
      "mfcc shape : (40,)\n",
      "chroma shape : (12,)\n",
      "melspectrogram shape : (128,)\n",
      "contrast shape : (7,)\n",
      "tonnetz shape : (6,)\n",
      "./audio-classification/data/output/17.wav\n",
      "mfcc shape : (40,)\n",
      "chroma shape : (12,)\n",
      "melspectrogram shape : (128,)\n",
      "contrast shape : (7,)\n",
      "tonnetz shape : (6,)\n",
      "./audio-classification/data/output/15.wav\n",
      "mfcc shape : (40,)\n",
      "chroma shape : (12,)\n",
      "melspectrogram shape : (128,)\n",
      "contrast shape : (7,)\n",
      "tonnetz shape : (6,)\n",
      "./audio-classification/data/output/29.wav\n",
      "mfcc shape : (40,)\n",
      "chroma shape : (12,)\n",
      "melspectrogram shape : (128,)\n",
      "contrast shape : (7,)\n",
      "tonnetz shape : (6,)\n",
      "./audio-classification/data/output/28.wav\n",
      "mfcc shape : (40,)\n",
      "chroma shape : (12,)\n",
      "melspectrogram shape : (128,)\n",
      "contrast shape : (7,)\n",
      "tonnetz shape : (6,)\n",
      "./audio-classification/data/output/14.wav\n",
      "mfcc shape : (40,)\n",
      "chroma shape : (12,)\n",
      "melspectrogram shape : (128,)\n",
      "contrast shape : (7,)\n",
      "tonnetz shape : (6,)\n",
      "./audio-classification/data/output/38.wav\n",
      "mfcc shape : (40,)\n",
      "chroma shape : (12,)\n",
      "melspectrogram shape : (128,)\n",
      "contrast shape : (7,)\n",
      "tonnetz shape : (6,)\n",
      "./audio-classification/data/output/10.wav\n",
      "mfcc shape : (40,)\n",
      "chroma shape : (12,)\n",
      "melspectrogram shape : (128,)\n",
      "contrast shape : (7,)\n",
      "tonnetz shape : (6,)\n",
      "./audio-classification/data/output/11.wav\n",
      "mfcc shape : (40,)\n",
      "chroma shape : (12,)\n",
      "melspectrogram shape : (128,)\n",
      "contrast shape : (7,)\n",
      "tonnetz shape : (6,)\n",
      "./audio-classification/data/output/39.wav\n",
      "mfcc shape : (40,)\n",
      "chroma shape : (12,)\n",
      "melspectrogram shape : (128,)\n",
      "contrast shape : (7,)\n",
      "tonnetz shape : (6,)\n",
      "./audio-classification/data/output/13.wav\n",
      "mfcc shape : (40,)\n",
      "chroma shape : (12,)\n",
      "melspectrogram shape : (128,)\n",
      "contrast shape : (7,)\n",
      "tonnetz shape : (6,)\n",
      "./audio-classification/data/output/12.wav\n",
      "mfcc shape : (40,)\n",
      "chroma shape : (12,)\n",
      "melspectrogram shape : (128,)\n",
      "contrast shape : (7,)\n",
      "tonnetz shape : (6,)\n",
      "./audio-classification/data/output/49.wav\n",
      "mfcc shape : (40,)\n",
      "chroma shape : (12,)\n",
      "melspectrogram shape : (128,)\n",
      "contrast shape : (7,)\n",
      "tonnetz shape : (6,)\n",
      "./audio-classification/data/output/48.wav\n",
      "mfcc shape : (40,)\n",
      "chroma shape : (12,)\n",
      "melspectrogram shape : (128,)\n",
      "contrast shape : (7,)\n",
      "tonnetz shape : (6,)\n",
      "./audio-classification/data/output/9.wav\n",
      "mfcc shape : (40,)\n",
      "chroma shape : (12,)\n",
      "melspectrogram shape : (128,)\n",
      "contrast shape : (7,)\n",
      "tonnetz shape : (6,)\n",
      "./audio-classification/data/output/8.wav\n",
      "mfcc shape : (40,)\n",
      "chroma shape : (12,)\n",
      "melspectrogram shape : (128,)\n",
      "contrast shape : (7,)\n",
      "tonnetz shape : (6,)\n",
      "./audio-classification/data/output/40.wav\n",
      "mfcc shape : (40,)\n",
      "chroma shape : (12,)\n",
      "melspectrogram shape : (128,)\n",
      "contrast shape : (7,)\n",
      "tonnetz shape : (6,)\n",
      "./audio-classification/data/output/6.wav\n",
      "mfcc shape : (40,)\n",
      "chroma shape : (12,)\n",
      "melspectrogram shape : (128,)\n",
      "contrast shape : (7,)\n",
      "tonnetz shape : (6,)\n",
      "./audio-classification/data/output/7.wav\n",
      "mfcc shape : (40,)\n",
      "chroma shape : (12,)\n",
      "melspectrogram shape : (128,)\n",
      "contrast shape : (7,)\n",
      "tonnetz shape : (6,)\n",
      "./audio-classification/data/output/41.wav\n",
      "mfcc shape : (40,)\n",
      "chroma shape : (12,)\n",
      "melspectrogram shape : (128,)\n",
      "contrast shape : (7,)\n",
      "tonnetz shape : (6,)\n",
      "./audio-classification/data/output/5.wav\n",
      "mfcc shape : (40,)\n",
      "chroma shape : (12,)\n",
      "melspectrogram shape : (128,)\n",
      "contrast shape : (7,)\n",
      "tonnetz shape : (6,)\n",
      "./audio-classification/data/output/43.wav\n",
      "mfcc shape : (40,)\n",
      "chroma shape : (12,)\n",
      "melspectrogram shape : (128,)\n",
      "contrast shape : (7,)\n",
      "tonnetz shape : (6,)\n",
      "./audio-classification/data/output/42.wav\n",
      "mfcc shape : (40,)\n",
      "chroma shape : (12,)\n",
      "melspectrogram shape : (128,)\n",
      "contrast shape : (7,)\n",
      "tonnetz shape : (6,)\n",
      "./audio-classification/data/output/4.wav\n",
      "mfcc shape : (40,)\n",
      "chroma shape : (12,)\n",
      "melspectrogram shape : (128,)\n",
      "contrast shape : (7,)\n",
      "tonnetz shape : (6,)\n",
      "./audio-classification/data/output/52.wav\n",
      "mfcc shape : (40,)\n",
      "chroma shape : (12,)\n",
      "melspectrogram shape : (128,)\n",
      "contrast shape : (7,)\n",
      "tonnetz shape : (6,)\n",
      "./audio-classification/data/output/46.wav\n",
      "mfcc shape : (40,)\n",
      "chroma shape : (12,)\n",
      "melspectrogram shape : (128,)\n",
      "contrast shape : (7,)\n",
      "tonnetz shape : (6,)\n",
      "./audio-classification/data/output/47.wav\n",
      "mfcc shape : (40,)\n",
      "chroma shape : (12,)\n",
      "melspectrogram shape : (128,)\n",
      "contrast shape : (7,)\n",
      "tonnetz shape : (6,)\n",
      "./audio-classification/data/output/1.wav\n",
      "mfcc shape : (40,)\n",
      "chroma shape : (12,)\n",
      "melspectrogram shape : (128,)\n",
      "contrast shape : (7,)\n",
      "tonnetz shape : (6,)\n",
      "./audio-classification/data/output/45.wav\n",
      "mfcc shape : (40,)\n",
      "chroma shape : (12,)\n",
      "melspectrogram shape : (128,)\n",
      "contrast shape : (7,)\n",
      "tonnetz shape : (6,)\n",
      "./audio-classification/data/output/3.wav\n",
      "mfcc shape : (40,)\n",
      "chroma shape : (12,)\n",
      "melspectrogram shape : (128,)\n",
      "contrast shape : (7,)\n",
      "tonnetz shape : (6,)\n",
      "./audio-classification/data/output/51.wav\n",
      "mfcc shape : (40,)\n",
      "chroma shape : (12,)\n",
      "melspectrogram shape : (128,)\n",
      "contrast shape : (7,)\n",
      "tonnetz shape : (6,)\n",
      "./audio-classification/data/output/2.wav\n",
      "mfcc shape : (40,)\n",
      "chroma shape : (12,)\n",
      "melspectrogram shape : (128,)\n",
      "contrast shape : (7,)\n",
      "tonnetz shape : (6,)\n",
      "./audio-classification/data/output/50.wav\n",
      "mfcc shape : (40,)\n",
      "chroma shape : (12,)\n",
      "melspectrogram shape : (128,)\n",
      "contrast shape : (7,)\n",
      "tonnetz shape : (6,)\n",
      "./audio-classification/data/output/44.wav\n",
      "mfcc shape : (40,)\n",
      "chroma shape : (12,)\n",
      "melspectrogram shape : (128,)\n",
      "contrast shape : (7,)\n",
      "tonnetz shape : (6,)\n",
      "./audio-classification/data/output/23.wav\n",
      "mfcc shape : (40,)\n",
      "chroma shape : (12,)\n",
      "melspectrogram shape : (128,)\n",
      "contrast shape : (7,)\n",
      "tonnetz shape : (6,)\n",
      "./audio-classification/data/output/37.wav\n",
      "mfcc shape : (40,)\n",
      "chroma shape : (12,)\n",
      "melspectrogram shape : (128,)\n",
      "contrast shape : (7,)\n",
      "tonnetz shape : (6,)\n",
      "./audio-classification/data/output/36.wav\n",
      "mfcc shape : (40,)\n",
      "chroma shape : (12,)\n",
      "melspectrogram shape : (128,)\n",
      "contrast shape : (7,)\n",
      "tonnetz shape : (6,)\n",
      "./audio-classification/data/output/22.wav\n",
      "mfcc shape : (40,)\n",
      "chroma shape : (12,)\n",
      "melspectrogram shape : (128,)\n",
      "contrast shape : (7,)\n",
      "tonnetz shape : (6,)\n",
      "./audio-classification/data/output/34.wav\n",
      "mfcc shape : (40,)\n",
      "chroma shape : (12,)\n",
      "melspectrogram shape : (128,)\n",
      "contrast shape : (7,)\n",
      "tonnetz shape : (6,)\n",
      "./audio-classification/data/output/20.wav\n",
      "mfcc shape : (40,)\n",
      "chroma shape : (12,)\n",
      "melspectrogram shape : (128,)\n",
      "contrast shape : (7,)\n",
      "tonnetz shape : (6,)\n",
      "./audio-classification/data/output/21.wav\n",
      "mfcc shape : (40,)\n",
      "chroma shape : (12,)\n",
      "melspectrogram shape : (128,)\n",
      "contrast shape : (7,)\n",
      "tonnetz shape : (6,)\n",
      "./audio-classification/data/output/35.wav\n",
      "mfcc shape : (40,)\n",
      "chroma shape : (12,)\n",
      "melspectrogram shape : (128,)\n",
      "contrast shape : (7,)\n",
      "tonnetz shape : (6,)\n",
      "./audio-classification/data/output/19.wav\n",
      "mfcc shape : (40,)\n",
      "chroma shape : (12,)\n",
      "melspectrogram shape : (128,)\n",
      "contrast shape : (7,)\n",
      "tonnetz shape : (6,)\n",
      "./audio-classification/data/output/31.wav\n",
      "mfcc shape : (40,)\n",
      "chroma shape : (12,)\n",
      "melspectrogram shape : (128,)\n",
      "contrast shape : (7,)\n",
      "tonnetz shape : (6,)\n",
      "./audio-classification/data/output/25.wav\n",
      "mfcc shape : (40,)\n",
      "chroma shape : (12,)\n",
      "melspectrogram shape : (128,)\n",
      "contrast shape : (7,)\n",
      "tonnetz shape : (6,)\n",
      "./audio-classification/data/output/24.wav\n",
      "mfcc shape : (40,)\n",
      "chroma shape : (12,)\n",
      "melspectrogram shape : (128,)\n",
      "contrast shape : (7,)\n",
      "tonnetz shape : (6,)\n",
      "./audio-classification/data/output/30.wav\n",
      "mfcc shape : (40,)\n",
      "chroma shape : (12,)\n",
      "melspectrogram shape : (128,)\n",
      "contrast shape : (7,)\n",
      "tonnetz shape : (6,)\n",
      "./audio-classification/data/output/18.wav\n",
      "mfcc shape : (40,)\n",
      "chroma shape : (12,)\n",
      "melspectrogram shape : (128,)\n",
      "contrast shape : (7,)\n",
      "tonnetz shape : (6,)\n",
      "./audio-classification/data/output/26.wav\n",
      "mfcc shape : (40,)\n",
      "chroma shape : (12,)\n",
      "melspectrogram shape : (128,)\n",
      "contrast shape : (7,)\n",
      "tonnetz shape : (6,)\n",
      "./audio-classification/data/output/32.wav\n",
      "mfcc shape : (40,)\n",
      "chroma shape : (12,)\n",
      "melspectrogram shape : (128,)\n",
      "contrast shape : (7,)\n",
      "tonnetz shape : (6,)\n",
      "./audio-classification/data/output/33.wav\n",
      "mfcc shape : (40,)\n",
      "chroma shape : (12,)\n",
      "melspectrogram shape : (128,)\n",
      "contrast shape : (7,)\n",
      "tonnetz shape : (6,)\n",
      "./audio-classification/data/output/27.wav\n",
      "mfcc shape : (40,)\n",
      "chroma shape : (12,)\n",
      "melspectrogram shape : (128,)\n",
      "contrast shape : (7,)\n",
      "tonnetz shape : (6,)\n",
      "extract output features done\n"
     ]
    }
   ],
   "source": [
    "features, _, filenames = feat_extract.parse_audio_files('./audio-classification/data', r)"
   ]
  },
  {
   "cell_type": "code",
   "execution_count": 71,
   "metadata": {},
   "outputs": [],
   "source": [
    "filename = './audio-classification/svm.sav'\n",
    "loaded_model = pickle.load(open(filename, 'rb'))\n",
    "X = features\n",
    "\n",
    "# Simple SVM\n",
    "y_pred = loaded_model.predict_proba(X)\n",
    "y_pred = y_pred.tolist()"
   ]
  },
  {
   "cell_type": "code",
   "execution_count": 72,
   "metadata": {
    "scrolled": true
   },
   "outputs": [
    {
     "data": {
      "text/plain": [
       "[('speech', './audio-classification/data/output/16.wav'),\n",
       " ('speech', './audio-classification/data/output/17.wav'),\n",
       " ('speech', './audio-classification/data/output/15.wav'),\n",
       " ('speech', './audio-classification/data/output/29.wav'),\n",
       " ('speech', './audio-classification/data/output/28.wav'),\n",
       " ('speech', './audio-classification/data/output/14.wav'),\n",
       " ('song', './audio-classification/data/output/38.wav'),\n",
       " ('none', './audio-classification/data/output/10.wav'),\n",
       " ('none', './audio-classification/data/output/11.wav'),\n",
       " ('song', './audio-classification/data/output/39.wav'),\n",
       " ('speech', './audio-classification/data/output/13.wav'),\n",
       " ('speech', './audio-classification/data/output/12.wav'),\n",
       " ('speech', './audio-classification/data/output/49.wav'),\n",
       " ('song', './audio-classification/data/output/48.wav'),\n",
       " ('speech', './audio-classification/data/output/9.wav'),\n",
       " ('speech', './audio-classification/data/output/8.wav'),\n",
       " ('song', './audio-classification/data/output/40.wav'),\n",
       " ('speech', './audio-classification/data/output/6.wav'),\n",
       " ('speech', './audio-classification/data/output/7.wav'),\n",
       " ('none', './audio-classification/data/output/41.wav'),\n",
       " ('speech', './audio-classification/data/output/5.wav'),\n",
       " ('none', './audio-classification/data/output/43.wav'),\n",
       " ('none', './audio-classification/data/output/42.wav'),\n",
       " ('speech', './audio-classification/data/output/4.wav'),\n",
       " ('speech', './audio-classification/data/output/52.wav'),\n",
       " ('song', './audio-classification/data/output/46.wav'),\n",
       " ('song', './audio-classification/data/output/47.wav'),\n",
       " ('speech', './audio-classification/data/output/1.wav'),\n",
       " ('song', './audio-classification/data/output/45.wav'),\n",
       " ('speech', './audio-classification/data/output/3.wav'),\n",
       " ('speech', './audio-classification/data/output/51.wav'),\n",
       " ('speech', './audio-classification/data/output/2.wav'),\n",
       " ('speech', './audio-classification/data/output/50.wav'),\n",
       " ('song', './audio-classification/data/output/44.wav'),\n",
       " ('speech', './audio-classification/data/output/23.wav'),\n",
       " ('song', './audio-classification/data/output/37.wav'),\n",
       " ('song', './audio-classification/data/output/36.wav'),\n",
       " ('speech', './audio-classification/data/output/22.wav'),\n",
       " ('song', './audio-classification/data/output/34.wav'),\n",
       " ('speech', './audio-classification/data/output/20.wav'),\n",
       " ('speech', './audio-classification/data/output/21.wav'),\n",
       " ('song', './audio-classification/data/output/35.wav'),\n",
       " ('speech', './audio-classification/data/output/19.wav'),\n",
       " ('speech', './audio-classification/data/output/31.wav'),\n",
       " ('speech', './audio-classification/data/output/25.wav'),\n",
       " ('speech', './audio-classification/data/output/24.wav'),\n",
       " ('speech', './audio-classification/data/output/30.wav'),\n",
       " ('speech', './audio-classification/data/output/18.wav'),\n",
       " ('speech', './audio-classification/data/output/26.wav'),\n",
       " ('song', './audio-classification/data/output/32.wav'),\n",
       " ('song', './audio-classification/data/output/33.wav'),\n",
       " ('speech', './audio-classification/data/output/27.wav')]"
      ]
     },
     "execution_count": 72,
     "metadata": {},
     "output_type": "execute_result"
    }
   ],
   "source": [
    "rst = []\n",
    "for i in range(len(y_pred)): \n",
    "    if y_pred[i][0] > 0.7  :\n",
    "        rst.append( 'song')\n",
    "    elif y_pred[i][0] < 0.3:\n",
    "        rst.append( 'speech')\n",
    "    else:\n",
    "        rst.append('none')"
   ]
  },
  {
   "cell_type": "code",
   "execution_count": 90,
   "metadata": {},
   "outputs": [],
   "source": [
    "filenames = map(lambda x : x[x.find('output')+7:], filenames) # wav path -> wav file name \n",
    "id_label = dict(zip(filenames,rst))\n",
    "\n",
    "IDs = id_label.keys()\n",
    "IDs.sort(key=lambda f: int(filter(str.isdigit, f)))\n",
    "\n",
    "labels = []\n",
    "for i in range(len(IDs)):\n",
    "    labels.append(id_label.get(IDs[i]))\n",
    "\n",
    "zip(IDs, labels)"
   ]
  },
  {
   "cell_type": "code",
   "execution_count": 126,
   "metadata": {},
   "outputs": [
    {
     "name": "stdout",
     "output_type": "stream",
     "text": [
      "\n",
      "[MoviePy] Running:\n",
      ">>> /Users/smlee/Library/Application Support/imageio/ffmpeg/ffmpeg-osx-v3.2.4 -y -i ./test_sk.mp4 -ss 160.00 -t 80.00 -vcodec copy -acodec copy extract_test0.mp4\n",
      "... command successful.\n"
     ]
    }
   ],
   "source": [
    "start_point = []\n",
    "end_point = []\n",
    "\n",
    "# singing duration\n",
    "# y_pred continue 5 count -> singing point\n",
    "count = 0\n",
    "reverse_count  = 0\n",
    "for i, predict in enumerate(bb):\n",
    "    if bb[i:(i+4)] == ['song','song','song','song']:\n",
    "        start_point.append(i)\n",
    "    if bb[i:(i+4)] == ['speech', 'speech', 'speech', 'speech']:\n",
    "        end_point.append(i)\n",
    "\n",
    "\n",
    "# divide and merge mp4\n",
    "clip = VideoFileClip(video_name)\n",
    "ffmpeg_extract_subclip(video_name, 5.0*(np.min(start_point)+1), 5.0*np.max(end_point), targetname = 'extract_test0.mp4')\n",
    "clip.close()\n",
    "# dlib search code\n",
    "# Berkeley code\n",
    "# is park?"
   ]
  }
 ],
 "metadata": {
  "kernelspec": {
   "display_name": "Python 2",
   "language": "python",
   "name": "python2"
  },
  "language_info": {
   "codemirror_mode": {
    "name": "ipython",
    "version": 2
   },
   "file_extension": ".py",
   "mimetype": "text/x-python",
   "name": "python",
   "nbconvert_exporter": "python",
   "pygments_lexer": "ipython2",
   "version": "2.7.13"
  }
 },
 "nbformat": 4,
 "nbformat_minor": 2
}
